{
 "cells": [
  {
   "cell_type": "code",
   "execution_count": 3,
   "metadata": {
    "colab": {},
    "colab_type": "code",
    "id": "qiqA4HvIoz4S"
   },
   "outputs": [
    {
     "name": "stderr",
     "output_type": "stream",
     "text": [
      "Using TensorFlow backend.\n"
     ]
    }
   ],
   "source": [
    "import pandas as pd\n",
    "import numpy as np\n",
    "import warnings\n",
    "import librosa\n",
    "import numpy as np\n",
    "import pandas as pd\n",
    "from os import listdir\n",
    "from os.path import isfile, join\n",
    "from keras.models import load_model\n",
    "import csv"
   ]
  },
  {
   "cell_type": "code",
   "execution_count": 40,
   "metadata": {
    "colab": {},
    "colab_type": "code",
    "id": "oIkBskVEpKRZ"
   },
   "outputs": [],
   "source": [
    "ANNOTATIONS_DIR = '../data/annotations/annotations averaged per song/song_level'\n",
    "MFCC_DIR = '../data/mfcc'\n",
    "METADATA_DIR = '../data/metadata'\n",
    "SONGS_DIR = '../data/audio/'\n",
    "PARENT_DIR = '../'"
   ]
  },
  {
   "cell_type": "code",
   "execution_count": 43,
   "metadata": {
    "colab": {},
    "colab_type": "code",
    "id": "HTO1SSHase6I"
   },
   "outputs": [
    {
     "name": "stdout",
     "output_type": "stream",
     "text": [
      "746.mp3\n",
      "1588.mp3\n",
      "1563.mp3\n",
      "1205.mp3\n",
      "791.mp3\n",
      "949.mp3\n",
      "1211.mp3\n",
      "1577.mp3\n",
      "2056.mp3\n",
      "[[4.918473  4.9537854]\n",
      " [5.2785764 5.4040227]\n",
      " [5.159223  5.138291 ]\n",
      " [5.258461  5.458504 ]\n",
      " [4.178391  4.068604 ]\n",
      " [5.7253137 5.699357 ]\n",
      " [5.3439784 5.5075727]\n",
      " [4.8035436 4.627732 ]\n",
      " [4.646677  4.5303335]]\n"
     ]
    }
   ],
   "source": [
    "def predict(path):\n",
    "    model = load_model(f'{PARENT_DIR}notebooks/mfcc_trained.hd5')\n",
    "    # Traversing over each file in path\n",
    "    output_vector = []\n",
    "    count = 0\n",
    "    for f in listdir(path):\n",
    "        count += 1\n",
    "        if(count == 10): break\n",
    "        if '.mp3' not in f: continue\n",
    "        print(f)\n",
    "        mfcc_vector = []\n",
    "        # Reading Song\n",
    "        songname = path + f\n",
    "        for i in range(0, 45, 2):\n",
    "            y, sr = librosa.load(songname, duration=2, offset=i)\n",
    "            mfcc = librosa.feature.mfcc(y=y, sr=sr, n_mfcc=14)\n",
    "            mfcc_avg = np.mean(mfcc, axis=1)\n",
    "            mfcc_vector.append(mfcc_avg)  # song name\n",
    "        output_vector.append(mfcc_vector)\n",
    "    output_vector = np.array(output_vector)\n",
    "    print(model.predict(output_vector))\n",
    "predict(SONGS_DIR)"
   ]
  }
 ],
 "metadata": {
  "colab": {
   "name": "final.ipynb",
   "provenance": [],
   "version": "0.3.2"
  },
  "kernelspec": {
   "display_name": "Python 3",
   "language": "python",
   "name": "python3"
  },
  "language_info": {
   "codemirror_mode": {
    "name": "ipython",
    "version": 3
   },
   "file_extension": ".py",
   "mimetype": "text/x-python",
   "name": "python",
   "nbconvert_exporter": "python",
   "pygments_lexer": "ipython3",
   "version": "3.7.1"
  }
 },
 "nbformat": 4,
 "nbformat_minor": 1
}
