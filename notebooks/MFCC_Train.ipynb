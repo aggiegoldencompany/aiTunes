{
 "cells": [
  {
   "cell_type": "code",
   "execution_count": 1,
   "metadata": {},
   "outputs": [
    {
     "name": "stderr",
     "output_type": "stream",
     "text": [
      "Using TensorFlow backend.\n"
     ]
    }
   ],
   "source": [
    "import numpy as np\n",
    "import pandas as pd\n",
    "import keras"
   ]
  },
  {
   "cell_type": "code",
   "execution_count": 2,
   "metadata": {},
   "outputs": [
    {
     "name": "stdout",
     "output_type": "stream",
     "text": [
      "(1744, 4)\n",
      "(58, 12)\n",
      "(58, 4)\n",
      "(1802, 4)\n",
      "1802\n"
     ]
    }
   ],
   "source": [
    "ANNOTATIONS_DIR = '../data/annotations/annotations averaged per song/song_level'\n",
    "MFCC_DIR = '../data/mfcc'\n",
    "METADATA_DIR = '../data/metadata'\n",
    "\n",
    "df = pd.read_csv(f\"{ANNOTATIONS_DIR}/static_annotations_averaged_songs_1_2000.csv\", index_col='song_id')\n",
    "print(df.shape)\n",
    "df2 = pd.read_csv(f\"{ANNOTATIONS_DIR}/static_annotations_averaged_songs_2000_2058.csv\", index_col='song_id')\n",
    "print(df2.shape)\n",
    "for column in df2.columns.values:\n",
    "   if column not in df.columns.values:\n",
    "       df2 = df2.drop(column, axis = 1)\n",
    "print(df2.shape)\n",
    "df = df.append(df2)\n",
    "print(df.values.shape)\n",
    "song_ids = df.index.tolist()\n",
    "print(len(song_ids))"
   ]
  },
  {
   "cell_type": "code",
   "execution_count": 3,
   "metadata": {},
   "outputs": [
    {
     "data": {
      "text/plain": [
       "(1802, 23, 14)"
      ]
     },
     "execution_count": 3,
     "metadata": {},
     "output_type": "execute_result"
    }
   ],
   "source": [
    "X = []\n",
    "for song in song_ids:\n",
    "    mfcc_df = pd.read_csv(f\"{MFCC_DIR}/{song}.csv\", header=None, index_col=0)\n",
    "    song_mfcc = []\n",
    "    for i in range(0,45,2):\n",
    "        temp = mfcc_df.loc[i,1]\n",
    "        temp = temp.replace('[', '')\n",
    "        temp = temp.replace(']', '')\n",
    "        temp = temp.replace('\\n', '')\n",
    "        song_mfcc_temp = [float(s) for s in temp.split()]\n",
    "        song_mfcc.append(song_mfcc_temp)\n",
    "    X.append(song_mfcc)\n",
    "X = np.array(X)\n",
    "X.shape"
   ]
  },
  {
   "cell_type": "code",
   "execution_count": 4,
   "metadata": {},
   "outputs": [
    {
     "data": {
      "text/plain": [
       "(1802, 2)"
      ]
     },
     "execution_count": 4,
     "metadata": {},
     "output_type": "execute_result"
    }
   ],
   "source": [
    "y = []\n",
    "for song in song_ids:\n",
    "    y.append([df.loc[song].values[0], df.loc[song].values[2]])\n",
    "y = np.array(y)\n",
    "y.shape"
   ]
  },
  {
   "cell_type": "code",
   "execution_count": 5,
   "metadata": {},
   "outputs": [
    {
     "name": "stdout",
     "output_type": "stream",
     "text": [
      "WARNING:tensorflow:From /anaconda3/lib/python3.7/site-packages/tensorflow/python/framework/op_def_library.py:263: colocate_with (from tensorflow.python.framework.ops) is deprecated and will be removed in a future version.\n",
      "Instructions for updating:\n",
      "Colocations handled automatically by placer.\n",
      "WARNING:tensorflow:From /anaconda3/lib/python3.7/site-packages/keras/backend/tensorflow_backend.py:3445: calling dropout (from tensorflow.python.ops.nn_ops) with keep_prob is deprecated and will be removed in a future version.\n",
      "Instructions for updating:\n",
      "Please use `rate` instead of `keep_prob`. Rate should be set to `rate = 1 - keep_prob`.\n",
      "WARNING:tensorflow:From /anaconda3/lib/python3.7/site-packages/tensorflow/python/ops/math_ops.py:3066: to_int32 (from tensorflow.python.ops.math_ops) is deprecated and will be removed in a future version.\n",
      "Instructions for updating:\n",
      "Use tf.cast instead.\n",
      "Train on 1441 samples, validate on 361 samples\n",
      "Epoch 1/30\n",
      "1441/1441 [==============================] - 2s 1ms/step - loss: 24.0279 - acc: 0.4615 - mean_absolute_error: 4.6768 - val_loss: 20.9463 - val_acc: 0.3657 - val_mean_absolute_error: 4.3790\n",
      "Epoch 2/30\n",
      "1441/1441 [==============================] - 0s 300us/step - loss: 19.6297 - acc: 0.4622 - mean_absolute_error: 4.1760 - val_loss: 15.9498 - val_acc: 0.3601 - val_mean_absolute_error: 3.7750\n",
      "Epoch 3/30\n",
      "1441/1441 [==============================] - 0s 228us/step - loss: 15.4275 - acc: 0.4663 - mean_absolute_error: 3.6376 - val_loss: 12.4548 - val_acc: 0.3712 - val_mean_absolute_error: 3.2851\n",
      "Epoch 4/30\n",
      "1441/1441 [==============================] - 0s 216us/step - loss: 12.1211 - acc: 0.4518 - mean_absolute_error: 3.1564 - val_loss: 9.6824 - val_acc: 0.3712 - val_mean_absolute_error: 2.8525\n",
      "Epoch 5/30\n",
      "1441/1441 [==============================] - 0s 226us/step - loss: 9.4912 - acc: 0.4608 - mean_absolute_error: 2.7300 - val_loss: 6.9364 - val_acc: 0.3601 - val_mean_absolute_error: 2.3476\n",
      "Epoch 6/30\n",
      "1441/1441 [==============================] - 0s 196us/step - loss: 7.1643 - acc: 0.4601 - mean_absolute_error: 2.3047 - val_loss: 4.5561 - val_acc: 0.3601 - val_mean_absolute_error: 1.8368\n",
      "Epoch 7/30\n",
      "1441/1441 [==============================] - 0s 184us/step - loss: 5.1099 - acc: 0.4566 - mean_absolute_error: 1.8825 - val_loss: 2.8162 - val_acc: 0.3601 - val_mean_absolute_error: 1.4037\n",
      "Epoch 8/30\n",
      "1441/1441 [==============================] - 0s 187us/step - loss: 3.7426 - acc: 0.4629 - mean_absolute_error: 1.5520 - val_loss: 1.9221 - val_acc: 0.3601 - val_mean_absolute_error: 1.1517\n",
      "Epoch 9/30\n",
      "1441/1441 [==============================] - 0s 205us/step - loss: 2.8668 - acc: 0.4691 - mean_absolute_error: 1.3378 - val_loss: 1.4960 - val_acc: 0.3573 - val_mean_absolute_error: 1.0170\n",
      "Epoch 10/30\n",
      "1441/1441 [==============================] - 0s 185us/step - loss: 2.3445 - acc: 0.4629 - mean_absolute_error: 1.2040 - val_loss: 1.2237 - val_acc: 0.3546 - val_mean_absolute_error: 0.9192\n",
      "Epoch 11/30\n",
      "1441/1441 [==============================] - 0s 173us/step - loss: 2.0049 - acc: 0.4448 - mean_absolute_error: 1.1209 - val_loss: 1.1673 - val_acc: 0.4072 - val_mean_absolute_error: 0.8923\n",
      "Epoch 12/30\n",
      "1441/1441 [==============================] - 0s 180us/step - loss: 1.7788 - acc: 0.4781 - mean_absolute_error: 1.0609 - val_loss: 1.1419 - val_acc: 0.4460 - val_mean_absolute_error: 0.8818\n",
      "Epoch 13/30\n",
      "1441/1441 [==============================] - 0s 180us/step - loss: 1.6933 - acc: 0.4969 - mean_absolute_error: 1.0329 - val_loss: 1.0983 - val_acc: 0.4986 - val_mean_absolute_error: 0.8664\n",
      "Epoch 14/30\n",
      "1441/1441 [==============================] - 0s 181us/step - loss: 1.6468 - acc: 0.5059 - mean_absolute_error: 1.0155 - val_loss: 1.0733 - val_acc: 0.5180 - val_mean_absolute_error: 0.8536\n",
      "Epoch 15/30\n",
      "1441/1441 [==============================] - 0s 178us/step - loss: 1.5488 - acc: 0.5080 - mean_absolute_error: 0.9931 - val_loss: 1.0621 - val_acc: 0.5457 - val_mean_absolute_error: 0.8459\n",
      "Epoch 16/30\n",
      "1441/1441 [==============================] - 0s 183us/step - loss: 1.5083 - acc: 0.5115 - mean_absolute_error: 0.9781 - val_loss: 1.0452 - val_acc: 0.5762 - val_mean_absolute_error: 0.8373\n",
      "Epoch 17/30\n",
      "1441/1441 [==============================] - 0s 193us/step - loss: 1.4660 - acc: 0.5309 - mean_absolute_error: 0.9640 - val_loss: 1.0331 - val_acc: 0.5873 - val_mean_absolute_error: 0.8332\n",
      "Epoch 18/30\n",
      "1441/1441 [==============================] - 0s 193us/step - loss: 1.4493 - acc: 0.5205 - mean_absolute_error: 0.9622 - val_loss: 1.0315 - val_acc: 0.5762 - val_mean_absolute_error: 0.8315\n",
      "Epoch 19/30\n",
      "1441/1441 [==============================] - 0s 183us/step - loss: 1.4946 - acc: 0.5205 - mean_absolute_error: 0.9654 - val_loss: 1.0366 - val_acc: 0.6066 - val_mean_absolute_error: 0.8342\n",
      "Epoch 20/30\n",
      "1441/1441 [==============================] - 0s 187us/step - loss: 1.4074 - acc: 0.5288 - mean_absolute_error: 0.9516 - val_loss: 1.0427 - val_acc: 0.5817 - val_mean_absolute_error: 0.8340\n",
      "Epoch 21/30\n",
      "1441/1441 [==============================] - 0s 191us/step - loss: 1.4308 - acc: 0.5302 - mean_absolute_error: 0.9526 - val_loss: 1.0474 - val_acc: 0.5845 - val_mean_absolute_error: 0.8365\n",
      "Epoch 22/30\n",
      "1441/1441 [==============================] - 0s 190us/step - loss: 1.3903 - acc: 0.5274 - mean_absolute_error: 0.9429 - val_loss: 1.0523 - val_acc: 0.5928 - val_mean_absolute_error: 0.8385\n",
      "Epoch 23/30\n",
      "1441/1441 [==============================] - 0s 186us/step - loss: 1.3648 - acc: 0.5184 - mean_absolute_error: 0.9377 - val_loss: 1.0517 - val_acc: 0.5900 - val_mean_absolute_error: 0.8390\n",
      "Epoch 24/30\n",
      "1441/1441 [==============================] - 0s 202us/step - loss: 1.3292 - acc: 0.5517 - mean_absolute_error: 0.9249 - val_loss: 1.0608 - val_acc: 0.5817 - val_mean_absolute_error: 0.8410\n",
      "Epoch 25/30\n",
      "1441/1441 [==============================] - 0s 186us/step - loss: 1.3250 - acc: 0.5392 - mean_absolute_error: 0.9186 - val_loss: 1.0731 - val_acc: 0.5651 - val_mean_absolute_error: 0.8437\n",
      "Epoch 26/30\n",
      "1441/1441 [==============================] - 0s 175us/step - loss: 1.3125 - acc: 0.5448 - mean_absolute_error: 0.9156 - val_loss: 1.0731 - val_acc: 0.5706 - val_mean_absolute_error: 0.8414\n",
      "Epoch 27/30\n",
      "1441/1441 [==============================] - 0s 200us/step - loss: 1.2841 - acc: 0.5378 - mean_absolute_error: 0.9130 - val_loss: 1.0604 - val_acc: 0.5956 - val_mean_absolute_error: 0.8375\n",
      "Epoch 28/30\n",
      "1441/1441 [==============================] - 0s 183us/step - loss: 1.2731 - acc: 0.5538 - mean_absolute_error: 0.9066 - val_loss: 1.0638 - val_acc: 0.5679 - val_mean_absolute_error: 0.8367\n",
      "Epoch 29/30\n",
      "1441/1441 [==============================] - 0s 177us/step - loss: 1.2515 - acc: 0.5406 - mean_absolute_error: 0.8970 - val_loss: 1.0679 - val_acc: 0.5817 - val_mean_absolute_error: 0.8363\n",
      "Epoch 30/30\n",
      "1441/1441 [==============================] - 0s 183us/step - loss: 1.2617 - acc: 0.5468 - mean_absolute_error: 0.8971 - val_loss: 1.0428 - val_acc: 0.5706 - val_mean_absolute_error: 0.8264\n"
     ]
    }
   ],
   "source": [
    "from keras.models import Sequential\n",
    "from keras.layers.recurrent import LSTM\n",
    "from keras.layers import Dense\n",
    "from keras.optimizers import Adam\n",
    "\n",
    "def coeff_determination(y_true, y_pred):\n",
    "    from keras import backend as K\n",
    "    SS_res =  K.sum(K.square( y_true-y_pred ))\n",
    "    SS_tot = K.sum(K.square( y_true - K.mean(y_true) ) )\n",
    "    return ( 1 - SS_res/(SS_tot + K.epsilon()) )\n",
    "\n",
    "input_shape = (X.shape[1], X.shape[2])\n",
    "model = Sequential()\n",
    "model.add(LSTM(32, input_shape=input_shape, dropout=0.05, recurrent_dropout=0.35))\n",
    "model.add(Dense(2))\n",
    "\n",
    "model.compile(optimizer=Adam(), loss='mean_squared_error', metrics=['acc', 'mae'])\n",
    "history = model.fit(X, y,\n",
    "                    epochs=30,\n",
    "                    batch_size=128,\n",
    "                    validation_split=0.2)"
   ]
  },
  {
   "cell_type": "code",
   "execution_count": 7,
   "metadata": {},
   "outputs": [
    {
     "data": {
      "image/png": "[encoded data removed]",
      "text/plain": [
       "<Figure size 432x288 with 1 Axes>"
      ]
     },
     "metadata": {
      "needs_background": "light"
     },
     "output_type": "display_data"
    },
    {
     "data": {
      "image/png": "[encoded data removed]",
      "text/plain": [
       "<Figure size 432x288 with 1 Axes>"
      ]
     },
     "metadata": {
      "needs_background": "light"
     },
     "output_type": "display_data"
    }
   ],
   "source": [
    "import matplotlib.pyplot as plt\n",
    "\n",
    "# summarize history for accuracy\n",
    "plt.plot(history.history['acc'])\n",
    "plt.plot(history.history['val_acc'])\n",
    "plt.title('model accuracy')\n",
    "plt.ylabel('accuracy')\n",
    "plt.xlabel('epoch')\n",
    "plt.legend(['train', 'val'], loc='upper left')\n",
    "plt.show()\n",
    "# summarize history for loss\n",
    "plt.plot(history.history['loss'])\n",
    "plt.plot(history.history['val_loss'])\n",
    "plt.title('model loss')\n",
    "plt.ylabel('loss')\n",
    "plt.xlabel('epoch')\n",
    "plt.legend(['train', 'val'], loc='upper left')\n",
    "plt.show()\n",
    "# # summarize history for r2\n",
    "# plt.plot(history.history['coeff_determination'])\n",
    "# plt.plot(history.history['val_coeff_determination'])\n",
    "# plt.title('model r2')\n",
    "# plt.ylabel('r2')\n",
    "# plt.xlabel('epoch')\n",
    "# plt.legend(['train', 'val'], loc='upper left')\n",
    "# plt.show()"
   ]
  },
  {
   "cell_type": "code",
   "execution_count": 8,
   "metadata": {},
   "outputs": [],
   "source": [
    "model.save('mfcc_trained.hd5')"
   ]
  },
  {
   "cell_type": "code",
   "execution_count": null,
   "metadata": {},
   "outputs": [],
   "source": []
  }
 ],
 "metadata": {
  "kernelspec": {
   "display_name": "Python 3",
   "language": "python",
   "name": "python3"
  },
  "language_info": {
   "codemirror_mode": {
    "name": "ipython",
    "version": 3
   },
   "file_extension": ".py",
   "mimetype": "text/x-python",
   "name": "python",
   "nbconvert_exporter": "python",
   "pygments_lexer": "ipython3",
   "version": "3.7.1"
  }
 },
 "nbformat": 4,
 "nbformat_minor": 2
}
